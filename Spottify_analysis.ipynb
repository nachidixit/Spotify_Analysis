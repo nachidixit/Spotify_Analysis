{
 "cells": [
  {
   "cell_type": "code",
   "execution_count": null,
   "id": "5cf48546-afc1-46df-bda1-66f6c6319666",
   "metadata": {},
   "outputs": [],
   "source": [
    "## 1. Setting up git\n",
    "# https://git-scm.com/downloads"
   ]
  },
  {
   "cell_type": "code",
   "execution_count": 130,
   "id": "fe873c2e-428d-4da1-b979-f5b9a660c28d",
   "metadata": {},
   "outputs": [],
   "source": [
    "!git config --global user.name \"nachidixit\""
   ]
  },
  {
   "cell_type": "code",
   "execution_count": 132,
   "id": "699f1758-886e-47f6-809f-acbb918537a4",
   "metadata": {},
   "outputs": [],
   "source": [
    "!git config --global user.email \"erdnachiket@gmail.com\""
   ]
  },
  {
   "cell_type": "code",
   "execution_count": 134,
   "id": "16af2d5a-54e4-4cdc-8f4b-bda5c4025418",
   "metadata": {},
   "outputs": [
    {
     "name": "stdout",
     "output_type": "stream",
     "text": [
      "Reinitialized existing Git repository in C:/Users/DATTA/SkillCircle Capstone Project/Capstone - LKN/.git/\n"
     ]
    }
   ],
   "source": [
    "#initializing git in Jupyter notebook\n",
    "!git init"
   ]
  },
  {
   "cell_type": "code",
   "execution_count": 136,
   "id": "9d109ad2-31c5-4282-a0f9-bd5a335d0acf",
   "metadata": {},
   "outputs": [
    {
     "name": "stderr",
     "output_type": "stream",
     "text": [
      "error: remote origin already exists.\n"
     ]
    }
   ],
   "source": [
    "## Connecting jupyter notebook to github\n",
    "!git remote add origin https://github.com/nachidixit/Spotify_Analysis.git"
   ]
  },
  {
   "cell_type": "code",
   "execution_count": 11,
   "id": "342ab532-c2ca-4e4b-bb17-7c8be4a0ce3c",
   "metadata": {},
   "outputs": [
    {
     "name": "stdout",
     "output_type": "stream",
     "text": [
      "Requirement already satisfied: pandas in c:\\users\\datta\\anaconda3\\lib\\site-packages (from -r requirements.txt (line 1)) (2.2.2)\n",
      "Requirement already satisfied: numpy in c:\\users\\datta\\anaconda3\\lib\\site-packages (from -r requirements.txt (line 2)) (1.26.4)\n",
      "Requirement already satisfied: seaborn in c:\\users\\datta\\anaconda3\\lib\\site-packages (from -r requirements.txt (line 3)) (0.13.2)\n",
      "Requirement already satisfied: matplotlib in c:\\users\\datta\\anaconda3\\lib\\site-packages (from -r requirements.txt (line 4)) (3.8.4)\n",
      "Requirement already satisfied: python-dateutil>=2.8.2 in c:\\users\\datta\\anaconda3\\lib\\site-packages (from pandas->-r requirements.txt (line 1)) (2.9.0.post0)\n",
      "Requirement already satisfied: pytz>=2020.1 in c:\\users\\datta\\anaconda3\\lib\\site-packages (from pandas->-r requirements.txt (line 1)) (2024.1)\n",
      "Requirement already satisfied: tzdata>=2022.7 in c:\\users\\datta\\anaconda3\\lib\\site-packages (from pandas->-r requirements.txt (line 1)) (2023.3)\n",
      "Requirement already satisfied: contourpy>=1.0.1 in c:\\users\\datta\\anaconda3\\lib\\site-packages (from matplotlib->-r requirements.txt (line 4)) (1.2.0)\n",
      "Requirement already satisfied: cycler>=0.10 in c:\\users\\datta\\anaconda3\\lib\\site-packages (from matplotlib->-r requirements.txt (line 4)) (0.11.0)\n",
      "Requirement already satisfied: fonttools>=4.22.0 in c:\\users\\datta\\anaconda3\\lib\\site-packages (from matplotlib->-r requirements.txt (line 4)) (4.51.0)\n",
      "Requirement already satisfied: kiwisolver>=1.3.1 in c:\\users\\datta\\anaconda3\\lib\\site-packages (from matplotlib->-r requirements.txt (line 4)) (1.4.4)\n",
      "Requirement already satisfied: packaging>=20.0 in c:\\users\\datta\\anaconda3\\lib\\site-packages (from matplotlib->-r requirements.txt (line 4)) (23.2)\n",
      "Requirement already satisfied: pillow>=8 in c:\\users\\datta\\anaconda3\\lib\\site-packages (from matplotlib->-r requirements.txt (line 4)) (10.3.0)\n",
      "Requirement already satisfied: pyparsing>=2.3.1 in c:\\users\\datta\\anaconda3\\lib\\site-packages (from matplotlib->-r requirements.txt (line 4)) (3.0.9)\n",
      "Requirement already satisfied: six>=1.5 in c:\\users\\datta\\anaconda3\\lib\\site-packages (from python-dateutil>=2.8.2->pandas->-r requirements.txt (line 1)) (1.16.0)\n"
     ]
    }
   ],
   "source": [
    "## if you want to build a requirement.txt---> you can w\n",
    "!pip install -r requirements.txt"
   ]
  },
  {
   "cell_type": "code",
   "execution_count": 13,
   "id": "9bacd713-0773-4716-84cd-aa54adb420cf",
   "metadata": {},
   "outputs": [],
   "source": [
    "## Readme file\n",
    "\n",
    "with open(\"Readme.md\", \"w\") as f:\n",
    "    f.write(\"# Spotify Data Analysis Project\\n\")\n",
    "    f.write(\"This data Analysis project in which we will cover the comprehensive analysis with insights like musical trends, Lister's trend, top musicians wtc.\")"
   ]
  },
  {
   "cell_type": "code",
   "execution_count": 15,
   "id": "9e34e9c2-df9e-4dca-abc1-e224d824f042",
   "metadata": {},
   "outputs": [
    {
     "data": {
      "text/plain": [
       "'with open(\"config.yaml\", \"w\") as f:\\n    f.write(\"dataset path: kaggle spotify dataset\\n\")\\n    f.write(\"model_path: modelspath\\n\")'"
      ]
     },
     "execution_count": 15,
     "metadata": {},
     "output_type": "execute_result"
    }
   ],
   "source": [
    "# configurations - Machine Learning\n",
    "'''with open(\"config.yaml\", \"w\") as f:\n",
    "    f.write(\"dataset path: kaggle spotify dataset\\n\")\n",
    "    f.write(\"model_path: modelspath\\n\")'''"
   ]
  },
  {
   "cell_type": "code",
   "execution_count": 19,
   "id": "328e3fdb-b87d-4830-823a-238d3e0a565a",
   "metadata": {},
   "outputs": [],
   "source": [
    "#main.py\n",
    "with open(\"main.py\", \"w\") as f:\n",
    "    f.write(\"import pandas as pd \\n import numpy as np \\n import seaborn as sns \\n import matplotlib.pyplot as plt\\n\")\n",
    "    f.write(\"print('Spotify Data analysis Project:')\\n\")"
   ]
  },
  {
   "cell_type": "code",
   "execution_count": 138,
   "id": "bf7f97a5-8476-44ef-9f26-86eeee2e2895",
   "metadata": {},
   "outputs": [],
   "source": [
    "!git add Readme.md"
   ]
  },
  {
   "cell_type": "code",
   "execution_count": 140,
   "id": "9a97b668-12e7-43cc-9547-831e7913f0f9",
   "metadata": {},
   "outputs": [
    {
     "name": "stdout",
     "output_type": "stream",
     "text": [
      "On branch main\n",
      "Your branch is up to date with 'origin/main'.\n",
      "\n",
      "Changes not staged for commit:\n",
      "  (use \"git add <file>...\" to update what will be committed)\n",
      "  (use \"git restore <file>...\" to discard changes in working directory)\n",
      "\tmodified:   .ipynb_checkpoints/Spottify_analysis-checkpoint.ipynb\n",
      "\tmodified:   Spottify_analysis.ipynb\n",
      "\n",
      "Untracked files:\n",
      "  (use \"git add <file>...\" to include in what will be committed)\n",
      "\t.ipynb_checkpoints/tracks-checkpoint.csv\n",
      "\tartists.csv\n",
      "\ttracks.csv\n",
      "\n",
      "no changes added to commit (use \"git add\" and/or \"git commit -a\")\n"
     ]
    }
   ],
   "source": [
    "!git commit -m \"first commit\""
   ]
  },
  {
   "cell_type": "code",
   "execution_count": 29,
   "id": "ae03aca1-634b-4bea-937c-da84aa965ac2",
   "metadata": {},
   "outputs": [],
   "source": [
    "!git branch -M main"
   ]
  },
  {
   "cell_type": "code",
   "execution_count": 31,
   "id": "bbfdc1bb-6a41-4efd-9beb-c5a264116986",
   "metadata": {},
   "outputs": [
    {
     "name": "stdout",
     "output_type": "stream",
     "text": [
      "branch 'main' set up to track 'origin/main'.\n"
     ]
    },
    {
     "name": "stderr",
     "output_type": "stream",
     "text": [
      "To https://github.com/nachidixit/Spotify_Analysis.git\n",
      " * [new branch]      main -> main\n"
     ]
    }
   ],
   "source": [
    "!git push -u origin main"
   ]
  },
  {
   "cell_type": "markdown",
   "id": "ee067bc4-5e6f-4b5e-be17-da6959fca95a",
   "metadata": {},
   "source": [
    "## Spotify Data Analysis"
   ]
  },
  {
   "cell_type": "code",
   "execution_count": 34,
   "id": "aa863781-a0a0-47b9-8455-551726194f6d",
   "metadata": {},
   "outputs": [
    {
     "name": "stdout",
     "output_type": "stream",
     "text": [
      "Collecting kaggle\n",
      "  Downloading kaggle-1.6.17.tar.gz (82 kB)\n",
      "     ---------------------------------------- 0.0/82.7 kB ? eta -:--:--\n",
      "     ---- ----------------------------------- 10.2/82.7 kB ? eta -:--:--\n",
      "     ---- ----------------------------------- 10.2/82.7 kB ? eta -:--:--\n",
      "     ------------------ ------------------- 41.0/82.7 kB 281.8 kB/s eta 0:00:01\n",
      "     -------------------------------------- 82.7/82.7 kB 513.8 kB/s eta 0:00:00\n",
      "  Preparing metadata (setup.py): started\n",
      "  Preparing metadata (setup.py): finished with status 'done'\n",
      "Requirement already satisfied: six>=1.10 in c:\\users\\datta\\anaconda3\\lib\\site-packages (from kaggle) (1.16.0)\n",
      "Requirement already satisfied: certifi>=2023.7.22 in c:\\users\\datta\\anaconda3\\lib\\site-packages (from kaggle) (2024.12.14)\n",
      "Requirement already satisfied: python-dateutil in c:\\users\\datta\\anaconda3\\lib\\site-packages (from kaggle) (2.9.0.post0)\n",
      "Requirement already satisfied: requests in c:\\users\\datta\\anaconda3\\lib\\site-packages (from kaggle) (2.32.2)\n",
      "Requirement already satisfied: tqdm in c:\\users\\datta\\anaconda3\\lib\\site-packages (from kaggle) (4.66.4)\n",
      "Requirement already satisfied: python-slugify in c:\\users\\datta\\anaconda3\\lib\\site-packages (from kaggle) (5.0.2)\n",
      "Requirement already satisfied: urllib3 in c:\\users\\datta\\anaconda3\\lib\\site-packages (from kaggle) (2.2.2)\n",
      "Requirement already satisfied: bleach in c:\\users\\datta\\anaconda3\\lib\\site-packages (from kaggle) (4.1.0)\n",
      "Requirement already satisfied: packaging in c:\\users\\datta\\anaconda3\\lib\\site-packages (from bleach->kaggle) (23.2)\n",
      "Requirement already satisfied: webencodings in c:\\users\\datta\\anaconda3\\lib\\site-packages (from bleach->kaggle) (0.5.1)\n",
      "Requirement already satisfied: text-unidecode>=1.3 in c:\\users\\datta\\anaconda3\\lib\\site-packages (from python-slugify->kaggle) (1.3)\n",
      "Requirement already satisfied: charset-normalizer<4,>=2 in c:\\users\\datta\\anaconda3\\lib\\site-packages (from requests->kaggle) (2.0.4)\n",
      "Requirement already satisfied: idna<4,>=2.5 in c:\\users\\datta\\anaconda3\\lib\\site-packages (from requests->kaggle) (3.7)\n",
      "Requirement already satisfied: colorama in c:\\users\\datta\\anaconda3\\lib\\site-packages (from tqdm->kaggle) (0.4.6)\n",
      "Building wheels for collected packages: kaggle\n",
      "  Building wheel for kaggle (setup.py): started\n",
      "  Building wheel for kaggle (setup.py): finished with status 'done'\n",
      "  Created wheel for kaggle: filename=kaggle-1.6.17-py3-none-any.whl size=105795 sha256=3b0900f222baee978f4c3251e50d02ac3dcfed3e4fffe152333fa505c0250fd4\n",
      "  Stored in directory: c:\\users\\datta\\appdata\\local\\pip\\cache\\wheels\\46\\d2\\26\\84d0a1acdb9c6baccf7d28cf06962ec80529fe1ad938489983\n",
      "Successfully built kaggle\n",
      "Installing collected packages: kaggle\n",
      "Successfully installed kaggle-1.6.17\n"
     ]
    }
   ],
   "source": [
    "!pip install kaggle"
   ]
  },
  {
   "cell_type": "code",
   "execution_count": 36,
   "id": "90f89458-d37e-48eb-a6e1-7c31b93181ed",
   "metadata": {},
   "outputs": [
    {
     "name": "stdout",
     "output_type": "stream",
     "text": [
      "Warning: Looks like you're using an outdated `kagglehub` version, please consider updating (latest version: 0.3.6)\n",
      "Downloading from https://www.kaggle.com/api/v1/datasets/download/lehaknarnauli/spotify-datasets?dataset_version_number=2...\n"
     ]
    },
    {
     "name": "stderr",
     "output_type": "stream",
     "text": [
      "100%|█████████████████████████████████████████████████████████████████████████████| 82.2M/82.2M [00:32<00:00, 2.68MB/s]"
     ]
    },
    {
     "name": "stdout",
     "output_type": "stream",
     "text": [
      "Extracting files...\n"
     ]
    },
    {
     "name": "stderr",
     "output_type": "stream",
     "text": [
      "\n"
     ]
    },
    {
     "name": "stdout",
     "output_type": "stream",
     "text": [
      "Path to dataset files: C:\\Users\\DATTA\\.cache\\kagglehub\\datasets\\lehaknarnauli\\spotify-datasets\\versions\\2\n"
     ]
    }
   ],
   "source": [
    "import kagglehub\n",
    "\n",
    "# Download latest version\n",
    "path = kagglehub.dataset_download(\"lehaknarnauli/spotify-datasets\")\n",
    "\n",
    "print(\"Path to dataset files:\", path)"
   ]
  },
  {
   "cell_type": "code",
   "execution_count": 142,
   "id": "8e63db3d-7a62-4711-a61a-714754193638",
   "metadata": {},
   "outputs": [],
   "source": [
    "## Loading required libraries\n",
    "import pandas as pd\n",
    "import numpy as np\n",
    "import matplotlib.pyplot as plt\n",
    "import seaborn as sns"
   ]
  },
  {
   "cell_type": "code",
   "execution_count": 144,
   "id": "9b196a8c-60b5-468e-bf01-6fc64dd80aca",
   "metadata": {},
   "outputs": [],
   "source": [
    "artists = pd.read_csv(\"artists.csv\")\n",
    "tracks = pd.read_csv(\"tracks.csv\")"
   ]
  },
  {
   "cell_type": "code",
   "execution_count": 145,
   "id": "234848ce-eb93-4fa1-b3b1-37675a8e64e1",
   "metadata": {},
   "outputs": [
    {
     "data": {
      "text/html": [
       "<div>\n",
       "<style scoped>\n",
       "    .dataframe tbody tr th:only-of-type {\n",
       "        vertical-align: middle;\n",
       "    }\n",
       "\n",
       "    .dataframe tbody tr th {\n",
       "        vertical-align: top;\n",
       "    }\n",
       "\n",
       "    .dataframe thead th {\n",
       "        text-align: right;\n",
       "    }\n",
       "</style>\n",
       "<table border=\"1\" class=\"dataframe\">\n",
       "  <thead>\n",
       "    <tr style=\"text-align: right;\">\n",
       "      <th></th>\n",
       "      <th>id</th>\n",
       "      <th>followers</th>\n",
       "      <th>genres</th>\n",
       "      <th>name</th>\n",
       "      <th>popularity</th>\n",
       "    </tr>\n",
       "  </thead>\n",
       "  <tbody>\n",
       "    <tr>\n",
       "      <th>0</th>\n",
       "      <td>0DheY5irMjBUeLybbCUEZ2</td>\n",
       "      <td>0.0</td>\n",
       "      <td>[]</td>\n",
       "      <td>Armid &amp; Amir Zare Pashai feat. Sara Rouzbehani</td>\n",
       "      <td>0</td>\n",
       "    </tr>\n",
       "    <tr>\n",
       "      <th>1</th>\n",
       "      <td>0DlhY15l3wsrnlfGio2bjU</td>\n",
       "      <td>5.0</td>\n",
       "      <td>[]</td>\n",
       "      <td>ปูนา ภาวิณี</td>\n",
       "      <td>0</td>\n",
       "    </tr>\n",
       "    <tr>\n",
       "      <th>2</th>\n",
       "      <td>0DmRESX2JknGPQyO15yxg7</td>\n",
       "      <td>0.0</td>\n",
       "      <td>[]</td>\n",
       "      <td>Sadaa</td>\n",
       "      <td>0</td>\n",
       "    </tr>\n",
       "    <tr>\n",
       "      <th>3</th>\n",
       "      <td>0DmhnbHjm1qw6NCYPeZNgJ</td>\n",
       "      <td>0.0</td>\n",
       "      <td>[]</td>\n",
       "      <td>Tra'gruda</td>\n",
       "      <td>0</td>\n",
       "    </tr>\n",
       "    <tr>\n",
       "      <th>4</th>\n",
       "      <td>0Dn11fWM7vHQ3rinvWEl4E</td>\n",
       "      <td>2.0</td>\n",
       "      <td>[]</td>\n",
       "      <td>Ioannis Panoutsopoulos</td>\n",
       "      <td>0</td>\n",
       "    </tr>\n",
       "  </tbody>\n",
       "</table>\n",
       "</div>"
      ],
      "text/plain": [
       "                       id  followers genres  \\\n",
       "0  0DheY5irMjBUeLybbCUEZ2        0.0     []   \n",
       "1  0DlhY15l3wsrnlfGio2bjU        5.0     []   \n",
       "2  0DmRESX2JknGPQyO15yxg7        0.0     []   \n",
       "3  0DmhnbHjm1qw6NCYPeZNgJ        0.0     []   \n",
       "4  0Dn11fWM7vHQ3rinvWEl4E        2.0     []   \n",
       "\n",
       "                                             name  popularity  \n",
       "0  Armid & Amir Zare Pashai feat. Sara Rouzbehani           0  \n",
       "1                                     ปูนา ภาวิณี           0  \n",
       "2                                           Sadaa           0  \n",
       "3                                       Tra'gruda           0  \n",
       "4                          Ioannis Panoutsopoulos           0  "
      ]
     },
     "execution_count": 145,
     "metadata": {},
     "output_type": "execute_result"
    }
   ],
   "source": [
    "artists.head()"
   ]
  },
  {
   "cell_type": "code",
   "execution_count": 146,
   "id": "44ea9a34-4371-494a-885e-19aebf47f2e6",
   "metadata": {
    "scrolled": true
   },
   "outputs": [
    {
     "data": {
      "text/plain": [
       "['45tIt06XoI0Iio4LBEVpls']"
      ]
     },
     "execution_count": 146,
     "metadata": {},
     "output_type": "execute_result"
    }
   ],
   "source": [
    "tracks.head()\n",
    "['45tIt06XoI0Iio4LBEVpls']"
   ]
  },
  {
   "cell_type": "code",
   "execution_count": 147,
   "id": "502210c5-5a2f-4081-89f9-b4050b93c47c",
   "metadata": {},
   "outputs": [],
   "source": [
    "## renaming id column id_artists\n",
    "artists.rename (columns= {'id': 'id_artists'}, inplace = True)"
   ]
  },
  {
   "cell_type": "code",
   "execution_count": 148,
   "id": "acacc0ff-7fa9-41b8-bafb-0250a0ec1aee",
   "metadata": {
    "scrolled": true
   },
   "outputs": [],
   "source": [
    "\n",
    "tracks['id_artists'] = tracks['id_artists'].str.strip(\"[]\").str.replace(\"'\", \"\",regex = False)"
   ]
  },
  {
   "cell_type": "code",
   "execution_count": 149,
   "id": "6cf03370-99e1-49d5-9f09-b1377101244c",
   "metadata": {},
   "outputs": [],
   "source": [
    "## "
   ]
  },
  {
   "cell_type": "code",
   "execution_count": 150,
   "id": "58031728-5a2f-4f64-bb6d-f31f37921c4b",
   "metadata": {},
   "outputs": [
    {
     "data": {
      "text/html": [
       "<div>\n",
       "<style scoped>\n",
       "    .dataframe tbody tr th:only-of-type {\n",
       "        vertical-align: middle;\n",
       "    }\n",
       "\n",
       "    .dataframe tbody tr th {\n",
       "        vertical-align: top;\n",
       "    }\n",
       "\n",
       "    .dataframe thead th {\n",
       "        text-align: right;\n",
       "    }\n",
       "</style>\n",
       "<table border=\"1\" class=\"dataframe\">\n",
       "  <thead>\n",
       "    <tr style=\"text-align: right;\">\n",
       "      <th></th>\n",
       "      <th>id</th>\n",
       "      <th>name_x</th>\n",
       "      <th>popularity_x</th>\n",
       "      <th>duration_ms</th>\n",
       "      <th>explicit</th>\n",
       "      <th>artists</th>\n",
       "      <th>id_artists</th>\n",
       "      <th>release_date</th>\n",
       "      <th>danceability</th>\n",
       "      <th>energy</th>\n",
       "      <th>...</th>\n",
       "      <th>acousticness</th>\n",
       "      <th>instrumentalness</th>\n",
       "      <th>liveness</th>\n",
       "      <th>valence</th>\n",
       "      <th>tempo</th>\n",
       "      <th>time_signature</th>\n",
       "      <th>followers</th>\n",
       "      <th>genres</th>\n",
       "      <th>name_y</th>\n",
       "      <th>popularity_y</th>\n",
       "    </tr>\n",
       "  </thead>\n",
       "  <tbody>\n",
       "    <tr>\n",
       "      <th>0</th>\n",
       "      <td>35iwgR4jXetI318WEWsa1Q</td>\n",
       "      <td>Carve</td>\n",
       "      <td>6</td>\n",
       "      <td>126903</td>\n",
       "      <td>0</td>\n",
       "      <td>['Uli']</td>\n",
       "      <td>45tIt06XoI0Iio4LBEVpls</td>\n",
       "      <td>1922-02-22</td>\n",
       "      <td>0.645</td>\n",
       "      <td>0.4450</td>\n",
       "      <td>...</td>\n",
       "      <td>0.674</td>\n",
       "      <td>0.7440</td>\n",
       "      <td>0.151</td>\n",
       "      <td>0.127</td>\n",
       "      <td>104.851</td>\n",
       "      <td>3</td>\n",
       "      <td>91.0</td>\n",
       "      <td>[]</td>\n",
       "      <td>Uli</td>\n",
       "      <td>4.0</td>\n",
       "    </tr>\n",
       "    <tr>\n",
       "      <th>1</th>\n",
       "      <td>021ht4sdgPcrDgSk7JTbKY</td>\n",
       "      <td>Capítulo 2.16 - Banquero Anarquista</td>\n",
       "      <td>0</td>\n",
       "      <td>98200</td>\n",
       "      <td>0</td>\n",
       "      <td>['Fernando Pessoa']</td>\n",
       "      <td>14jtPCOoNZwquk5wd9DxrY</td>\n",
       "      <td>1922-06-01</td>\n",
       "      <td>0.695</td>\n",
       "      <td>0.2630</td>\n",
       "      <td>...</td>\n",
       "      <td>0.797</td>\n",
       "      <td>0.0000</td>\n",
       "      <td>0.148</td>\n",
       "      <td>0.655</td>\n",
       "      <td>102.009</td>\n",
       "      <td>1</td>\n",
       "      <td>3.0</td>\n",
       "      <td>[]</td>\n",
       "      <td>Fernando Pessoa</td>\n",
       "      <td>0.0</td>\n",
       "    </tr>\n",
       "    <tr>\n",
       "      <th>2</th>\n",
       "      <td>07A5yehtSnoedViJAZkNnc</td>\n",
       "      <td>Vivo para Quererte - Remasterizado</td>\n",
       "      <td>0</td>\n",
       "      <td>181640</td>\n",
       "      <td>0</td>\n",
       "      <td>['Ignacio Corsini']</td>\n",
       "      <td>5LiOoJbxVSAMkBS2fUm3X2</td>\n",
       "      <td>1922-03-21</td>\n",
       "      <td>0.434</td>\n",
       "      <td>0.1770</td>\n",
       "      <td>...</td>\n",
       "      <td>0.994</td>\n",
       "      <td>0.0218</td>\n",
       "      <td>0.212</td>\n",
       "      <td>0.457</td>\n",
       "      <td>130.418</td>\n",
       "      <td>5</td>\n",
       "      <td>3528.0</td>\n",
       "      <td>['tango', 'vintage tango']</td>\n",
       "      <td>Ignacio Corsini</td>\n",
       "      <td>23.0</td>\n",
       "    </tr>\n",
       "    <tr>\n",
       "      <th>3</th>\n",
       "      <td>08FmqUhxtyLTn6pAh6bk45</td>\n",
       "      <td>El Prisionero - Remasterizado</td>\n",
       "      <td>0</td>\n",
       "      <td>176907</td>\n",
       "      <td>0</td>\n",
       "      <td>['Ignacio Corsini']</td>\n",
       "      <td>5LiOoJbxVSAMkBS2fUm3X2</td>\n",
       "      <td>1922-03-21</td>\n",
       "      <td>0.321</td>\n",
       "      <td>0.0946</td>\n",
       "      <td>...</td>\n",
       "      <td>0.995</td>\n",
       "      <td>0.9180</td>\n",
       "      <td>0.104</td>\n",
       "      <td>0.397</td>\n",
       "      <td>169.980</td>\n",
       "      <td>3</td>\n",
       "      <td>3528.0</td>\n",
       "      <td>['tango', 'vintage tango']</td>\n",
       "      <td>Ignacio Corsini</td>\n",
       "      <td>23.0</td>\n",
       "    </tr>\n",
       "    <tr>\n",
       "      <th>4</th>\n",
       "      <td>08y9GfoqCWfOGsKdwojr5e</td>\n",
       "      <td>Lady of the Evening</td>\n",
       "      <td>0</td>\n",
       "      <td>163080</td>\n",
       "      <td>0</td>\n",
       "      <td>['Dick Haymes']</td>\n",
       "      <td>3BiJGZsyX9sJchTqcSA7Su</td>\n",
       "      <td>1922</td>\n",
       "      <td>0.402</td>\n",
       "      <td>0.1580</td>\n",
       "      <td>...</td>\n",
       "      <td>0.989</td>\n",
       "      <td>0.1300</td>\n",
       "      <td>0.311</td>\n",
       "      <td>0.196</td>\n",
       "      <td>103.220</td>\n",
       "      <td>4</td>\n",
       "      <td>11327.0</td>\n",
       "      <td>['adult standards', 'big band', 'easy listenin...</td>\n",
       "      <td>Dick Haymes</td>\n",
       "      <td>35.0</td>\n",
       "    </tr>\n",
       "  </tbody>\n",
       "</table>\n",
       "<p>5 rows × 24 columns</p>\n",
       "</div>"
      ],
      "text/plain": [
       "                       id                               name_x  popularity_x  \\\n",
       "0  35iwgR4jXetI318WEWsa1Q                                Carve             6   \n",
       "1  021ht4sdgPcrDgSk7JTbKY  Capítulo 2.16 - Banquero Anarquista             0   \n",
       "2  07A5yehtSnoedViJAZkNnc   Vivo para Quererte - Remasterizado             0   \n",
       "3  08FmqUhxtyLTn6pAh6bk45        El Prisionero - Remasterizado             0   \n",
       "4  08y9GfoqCWfOGsKdwojr5e                  Lady of the Evening             0   \n",
       "\n",
       "   duration_ms  explicit              artists              id_artists  \\\n",
       "0       126903         0              ['Uli']  45tIt06XoI0Iio4LBEVpls   \n",
       "1        98200         0  ['Fernando Pessoa']  14jtPCOoNZwquk5wd9DxrY   \n",
       "2       181640         0  ['Ignacio Corsini']  5LiOoJbxVSAMkBS2fUm3X2   \n",
       "3       176907         0  ['Ignacio Corsini']  5LiOoJbxVSAMkBS2fUm3X2   \n",
       "4       163080         0      ['Dick Haymes']  3BiJGZsyX9sJchTqcSA7Su   \n",
       "\n",
       "  release_date  danceability  energy  ...  acousticness  instrumentalness  \\\n",
       "0   1922-02-22         0.645  0.4450  ...         0.674            0.7440   \n",
       "1   1922-06-01         0.695  0.2630  ...         0.797            0.0000   \n",
       "2   1922-03-21         0.434  0.1770  ...         0.994            0.0218   \n",
       "3   1922-03-21         0.321  0.0946  ...         0.995            0.9180   \n",
       "4         1922         0.402  0.1580  ...         0.989            0.1300   \n",
       "\n",
       "   liveness  valence    tempo  time_signature  followers  \\\n",
       "0     0.151    0.127  104.851               3       91.0   \n",
       "1     0.148    0.655  102.009               1        3.0   \n",
       "2     0.212    0.457  130.418               5     3528.0   \n",
       "3     0.104    0.397  169.980               3     3528.0   \n",
       "4     0.311    0.196  103.220               4    11327.0   \n",
       "\n",
       "                                              genres           name_y  \\\n",
       "0                                                 []              Uli   \n",
       "1                                                 []  Fernando Pessoa   \n",
       "2                         ['tango', 'vintage tango']  Ignacio Corsini   \n",
       "3                         ['tango', 'vintage tango']  Ignacio Corsini   \n",
       "4  ['adult standards', 'big band', 'easy listenin...      Dick Haymes   \n",
       "\n",
       "   popularity_y  \n",
       "0           4.0  \n",
       "1           0.0  \n",
       "2          23.0  \n",
       "3          23.0  \n",
       "4          35.0  \n",
       "\n",
       "[5 rows x 24 columns]"
      ]
     },
     "execution_count": 150,
     "metadata": {},
     "output_type": "execute_result"
    }
   ],
   "source": [
    "## Merging Data SEt\n",
    "spotify_data = tracks.merge(artists, on = \"id_artists\", how = \"left\")\n",
    "spotify_data.head()"
   ]
  },
  {
   "cell_type": "code",
   "execution_count": 151,
   "id": "ba641610-282c-40eb-8dc0-7ca91f85e30e",
   "metadata": {},
   "outputs": [
    {
     "name": "stdout",
     "output_type": "stream",
     "text": [
      "<class 'pandas.core.frame.DataFrame'>\n",
      "RangeIndex: 586672 entries, 0 to 586671\n",
      "Data columns (total 24 columns):\n",
      " #   Column            Non-Null Count   Dtype  \n",
      "---  ------            --------------   -----  \n",
      " 0   id                586672 non-null  object \n",
      " 1   name_x            586601 non-null  object \n",
      " 2   popularity_x      586672 non-null  int64  \n",
      " 3   duration_ms       586672 non-null  int64  \n",
      " 4   explicit          586672 non-null  int64  \n",
      " 5   artists           586672 non-null  object \n",
      " 6   id_artists        586672 non-null  object \n",
      " 7   release_date      586672 non-null  object \n",
      " 8   danceability      586672 non-null  float64\n",
      " 9   energy            586672 non-null  float64\n",
      " 10  key               586672 non-null  int64  \n",
      " 11  loudness          586672 non-null  float64\n",
      " 12  mode              586672 non-null  int64  \n",
      " 13  speechiness       586672 non-null  float64\n",
      " 14  acousticness      586672 non-null  float64\n",
      " 15  instrumentalness  586672 non-null  float64\n",
      " 16  liveness          586672 non-null  float64\n",
      " 17  valence           586672 non-null  float64\n",
      " 18  tempo             586672 non-null  float64\n",
      " 19  time_signature    586672 non-null  int64  \n",
      " 20  followers         469583 non-null  float64\n",
      " 21  genres            469583 non-null  object \n",
      " 22  name_y            469583 non-null  object \n",
      " 23  popularity_y      469583 non-null  float64\n",
      "dtypes: float64(11), int64(6), object(7)\n",
      "memory usage: 107.4+ MB\n"
     ]
    }
   ],
   "source": [
    "spotify_data.info()"
   ]
  },
  {
   "cell_type": "code",
   "execution_count": 152,
   "id": "87381df8-f80a-4e3e-9516-6963c4470555",
   "metadata": {},
   "outputs": [
    {
     "data": {
      "text/plain": [
       "id                       0\n",
       "name_x                  71\n",
       "popularity_x             0\n",
       "duration_ms              0\n",
       "explicit                 0\n",
       "artists                  0\n",
       "id_artists               0\n",
       "release_date             0\n",
       "danceability             0\n",
       "energy                   0\n",
       "key                      0\n",
       "loudness                 0\n",
       "mode                     0\n",
       "speechiness              0\n",
       "acousticness             0\n",
       "instrumentalness         0\n",
       "liveness                 0\n",
       "valence                  0\n",
       "tempo                    0\n",
       "time_signature           0\n",
       "followers           117089\n",
       "genres              117089\n",
       "name_y              117089\n",
       "popularity_y        117089\n",
       "dtype: int64"
      ]
     },
     "execution_count": 152,
     "metadata": {},
     "output_type": "execute_result"
    }
   ],
   "source": [
    "spotify_data.isnull().sum()"
   ]
  },
  {
   "cell_type": "code",
   "execution_count": 153,
   "id": "c1098fa8-92a8-4acc-be4b-2c3f28de8e0a",
   "metadata": {},
   "outputs": [
    {
     "data": {
      "text/plain": [
       "'a pple'"
      ]
     },
     "execution_count": 153,
     "metadata": {},
     "output_type": "execute_result"
    }
   ],
   "source": [
    "a = \"  a pple  \"\n",
    "a.strip()"
   ]
  },
  {
   "cell_type": "code",
   "execution_count": 154,
   "id": "f57a0860-e427-450e-8857-c04e6ca36e09",
   "metadata": {},
   "outputs": [
    {
     "name": "stdout",
     "output_type": "stream",
     "text": [
      "apple\n"
     ]
    }
   ],
   "source": [
    "import re\n",
    "a = \"a pp le\"\n",
    "b = re.sub(r\"\\s+\", \"\", a)\n",
    "print(b)"
   ]
  },
  {
   "cell_type": "code",
   "execution_count": 166,
   "id": "330a70ec-c70b-4fa6-b69e-33b25021dd14",
   "metadata": {},
   "outputs": [
    {
     "name": "stdout",
     "output_type": "stream",
     "text": [
      "On branch main\n",
      "Your branch is up to date with 'origin/main'.\n",
      "\n",
      "Changes not staged for commit:\n",
      "  (use \"git add <file>...\" to update what will be committed)\n",
      "  (use \"git restore <file>...\" to discard changes in working directory)\n",
      "\tmodified:   .ipynb_checkpoints/Spottify_analysis-checkpoint.ipynb\n",
      "\tmodified:   Spottify_analysis.ipynb\n",
      "\n",
      "Untracked files:\n",
      "  (use \"git add <file>...\" to include in what will be committed)\n",
      "\t.ipynb_checkpoints/tracks-checkpoint.csv\n",
      "\tartists.csv\n",
      "\ttracks.csv\n",
      "\n",
      "no changes added to commit (use \"git add\" and/or \"git commit -a\")\n"
     ]
    }
   ],
   "source": [
    "!git commit -m \"ipynb file is committed.\""
   ]
  },
  {
   "cell_type": "code",
   "execution_count": null,
   "id": "22e1fe64-60b2-42d7-8492-d81ed68c2c54",
   "metadata": {},
   "outputs": [],
   "source": [
    "sns.barplot(spotify_data, x = 'artists', y = 'followers')"
   ]
  },
  {
   "cell_type": "code",
   "execution_count": null,
   "id": "02c9992e-bbb1-42aa-a846-8c6bc25efffd",
   "metadata": {},
   "outputs": [],
   "source": []
  }
 ],
 "metadata": {
  "kernelspec": {
   "display_name": "Python 3 (ipykernel)",
   "language": "python",
   "name": "python3"
  },
  "language_info": {
   "codemirror_mode": {
    "name": "ipython",
    "version": 3
   },
   "file_extension": ".py",
   "mimetype": "text/x-python",
   "name": "python",
   "nbconvert_exporter": "python",
   "pygments_lexer": "ipython3",
   "version": "3.12.4"
  }
 },
 "nbformat": 4,
 "nbformat_minor": 5
}
