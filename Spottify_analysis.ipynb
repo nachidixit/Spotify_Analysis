{
 "cells": [
  {
   "cell_type": "code",
   "execution_count": null,
   "id": "5cf48546-afc1-46df-bda1-66f6c6319666",
   "metadata": {},
   "outputs": [],
   "source": [
    "## 1. Setting up git\n",
    "# https://git-scm.com/downloads"
   ]
  },
  {
   "cell_type": "code",
   "execution_count": 1,
   "id": "fe873c2e-428d-4da1-b979-f5b9a660c28d",
   "metadata": {},
   "outputs": [],
   "source": [
    "!git config --global user.name \"nachidixit\""
   ]
  },
  {
   "cell_type": "code",
   "execution_count": 3,
   "id": "699f1758-886e-47f6-809f-acbb918537a4",
   "metadata": {},
   "outputs": [],
   "source": [
    "!git config --global user.email \"erdnachiket@gmail.com\""
   ]
  },
  {
   "cell_type": "code",
   "execution_count": 5,
   "id": "16af2d5a-54e4-4cdc-8f4b-bda5c4025418",
   "metadata": {},
   "outputs": [
    {
     "name": "stdout",
     "output_type": "stream",
     "text": [
      "Initialized empty Git repository in C:/Users/DATTA/SkillCircle Capstone Project/Capstone - LKN/.git/\n"
     ]
    }
   ],
   "source": [
    "#initializing git in Jupyter notebook\n",
    "!git init"
   ]
  },
  {
   "cell_type": "code",
   "execution_count": 7,
   "id": "9d109ad2-31c5-4282-a0f9-bd5a335d0acf",
   "metadata": {},
   "outputs": [],
   "source": [
    "## Connecting jupyter notebook to github\n",
    "!git remote add origin https://github.com/nachidixit/Spotify_Analysis.git"
   ]
  },
  {
   "cell_type": "code",
   "execution_count": 11,
   "id": "342ab532-c2ca-4e4b-bb17-7c8be4a0ce3c",
   "metadata": {},
   "outputs": [
    {
     "name": "stdout",
     "output_type": "stream",
     "text": [
      "Requirement already satisfied: pandas in c:\\users\\datta\\anaconda3\\lib\\site-packages (from -r requirements.txt (line 1)) (2.2.2)\n",
      "Requirement already satisfied: numpy in c:\\users\\datta\\anaconda3\\lib\\site-packages (from -r requirements.txt (line 2)) (1.26.4)\n",
      "Requirement already satisfied: seaborn in c:\\users\\datta\\anaconda3\\lib\\site-packages (from -r requirements.txt (line 3)) (0.13.2)\n",
      "Requirement already satisfied: matplotlib in c:\\users\\datta\\anaconda3\\lib\\site-packages (from -r requirements.txt (line 4)) (3.8.4)\n",
      "Requirement already satisfied: python-dateutil>=2.8.2 in c:\\users\\datta\\anaconda3\\lib\\site-packages (from pandas->-r requirements.txt (line 1)) (2.9.0.post0)\n",
      "Requirement already satisfied: pytz>=2020.1 in c:\\users\\datta\\anaconda3\\lib\\site-packages (from pandas->-r requirements.txt (line 1)) (2024.1)\n",
      "Requirement already satisfied: tzdata>=2022.7 in c:\\users\\datta\\anaconda3\\lib\\site-packages (from pandas->-r requirements.txt (line 1)) (2023.3)\n",
      "Requirement already satisfied: contourpy>=1.0.1 in c:\\users\\datta\\anaconda3\\lib\\site-packages (from matplotlib->-r requirements.txt (line 4)) (1.2.0)\n",
      "Requirement already satisfied: cycler>=0.10 in c:\\users\\datta\\anaconda3\\lib\\site-packages (from matplotlib->-r requirements.txt (line 4)) (0.11.0)\n",
      "Requirement already satisfied: fonttools>=4.22.0 in c:\\users\\datta\\anaconda3\\lib\\site-packages (from matplotlib->-r requirements.txt (line 4)) (4.51.0)\n",
      "Requirement already satisfied: kiwisolver>=1.3.1 in c:\\users\\datta\\anaconda3\\lib\\site-packages (from matplotlib->-r requirements.txt (line 4)) (1.4.4)\n",
      "Requirement already satisfied: packaging>=20.0 in c:\\users\\datta\\anaconda3\\lib\\site-packages (from matplotlib->-r requirements.txt (line 4)) (23.2)\n",
      "Requirement already satisfied: pillow>=8 in c:\\users\\datta\\anaconda3\\lib\\site-packages (from matplotlib->-r requirements.txt (line 4)) (10.3.0)\n",
      "Requirement already satisfied: pyparsing>=2.3.1 in c:\\users\\datta\\anaconda3\\lib\\site-packages (from matplotlib->-r requirements.txt (line 4)) (3.0.9)\n",
      "Requirement already satisfied: six>=1.5 in c:\\users\\datta\\anaconda3\\lib\\site-packages (from python-dateutil>=2.8.2->pandas->-r requirements.txt (line 1)) (1.16.0)\n"
     ]
    }
   ],
   "source": [
    "## if you want to build a requirement.txt---> you can w\n",
    "!pip install -r requirements.txt"
   ]
  },
  {
   "cell_type": "code",
   "execution_count": 13,
   "id": "9bacd713-0773-4716-84cd-aa54adb420cf",
   "metadata": {},
   "outputs": [],
   "source": [
    "## Readme file\n",
    "\n",
    "with open(\"Readme.md\", \"w\") as f:\n",
    "    f.write(\"# Spotify Data Analysis Project\\n\")\n",
    "    f.write(\"This data Analysis project in which we will cover the comprehensive analysis with insights like musical trends, Lister's trend, top musicians wtc.\")"
   ]
  },
  {
   "cell_type": "code",
   "execution_count": 15,
   "id": "9e34e9c2-df9e-4dca-abc1-e224d824f042",
   "metadata": {},
   "outputs": [
    {
     "data": {
      "text/plain": [
       "'with open(\"config.yaml\", \"w\") as f:\\n    f.write(\"dataset path: kaggle spotify dataset\\n\")\\n    f.write(\"model_path: modelspath\\n\")'"
      ]
     },
     "execution_count": 15,
     "metadata": {},
     "output_type": "execute_result"
    }
   ],
   "source": [
    "# configurations - Machine Learning\n",
    "'''with open(\"config.yaml\", \"w\") as f:\n",
    "    f.write(\"dataset path: kaggle spotify dataset\\n\")\n",
    "    f.write(\"model_path: modelspath\\n\")'''"
   ]
  },
  {
   "cell_type": "code",
   "execution_count": 19,
   "id": "328e3fdb-b87d-4830-823a-238d3e0a565a",
   "metadata": {},
   "outputs": [],
   "source": [
    "#main.py\n",
    "with open(\"main.py\", \"w\") as f:\n",
    "    f.write(\"import pandas as pd \\n import numpy as np \\n import seaborn as sns \\n import matplotlib.pyplot as plt\\n\")\n",
    "    f.write(\"print('Spotify Data analysis Project:')\\n\")"
   ]
  },
  {
   "cell_type": "code",
   "execution_count": 21,
   "id": "bf7f97a5-8476-44ef-9f26-86eeee2e2895",
   "metadata": {},
   "outputs": [
    {
     "name": "stderr",
     "output_type": "stream",
     "text": [
      "'ls' is not recognized as an internal or external command,\n",
      "operable program or batch file.\n"
     ]
    }
   ],
   "source": []
  },
  {
   "cell_type": "code",
   "execution_count": null,
   "id": "9a97b668-12e7-43cc-9547-831e7913f0f9",
   "metadata": {},
   "outputs": [],
   "source": []
  }
 ],
 "metadata": {
  "kernelspec": {
   "display_name": "Python 3 (ipykernel)",
   "language": "python",
   "name": "python3"
  },
  "language_info": {
   "codemirror_mode": {
    "name": "ipython",
    "version": 3
   },
   "file_extension": ".py",
   "mimetype": "text/x-python",
   "name": "python",
   "nbconvert_exporter": "python",
   "pygments_lexer": "ipython3",
   "version": "3.12.4"
  }
 },
 "nbformat": 4,
 "nbformat_minor": 5
}
